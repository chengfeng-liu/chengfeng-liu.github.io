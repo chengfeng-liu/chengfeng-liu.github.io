{
 "cells": [
  {
   "attachments": {},
   "cell_type": "markdown",
   "metadata": {},
   "source": [
    "# Set up Git\n",
    "\n",
    "Pushing local repository changes to GitHub should use **SSH** rather than **https** as latter will possibly fail.\n",
    "\n",
    "To use SSH with GitHub:\n",
    "\n",
    "- Open terminal and go to **home** directory `cd ~`,\n",
    "- Generate an SSH key pair `ssh-keygen -t ed25519 -C \"chengfengliu@icloud.com\"`,\n",
    "- Hit enter to confirm default directory path,\n",
    "- Enter `April-8th` as **passphrase**,\n",
    "- Run `cat ~/.ssh/id_ed25519.pub`, use the contents as new SSH key on GitHub and use `studio` as SSH key title,\n",
    "- Set up SSH authentication for Git `git config --global user.name \"chengfeng-liu\"` and `git config --global user.email \"chengfengliu@icloud.com\"`,\n",
    "- Go to **Projects** directory `cd Documents/Projects/`, clone GitHub repository to local `git clone git@github.com:chengfeng-liu/chengfeng-liu.github.io.git`, enter `yes` to confirm connection and enter `April-8th` to continue,\n",
    "- Go to **home** directory `cd ~` and run `ssh -T git@github.com` to test SSH connection to GitHub,\n",
    "- Ensure correct SSH key file permissions `chmod 600 ~/.ssh/id_ed25519.pub`,\n",
    "- Add SSH key to SSH agent `ssh-add ~/.ssh/id_ed25519`."
   ]
  },
  {
   "attachments": {},
   "cell_type": "markdown",
   "metadata": {},
   "source": [
    "# Git commands"
   ]
  },
  {
   "cell_type": "code",
   "execution_count": 10,
   "metadata": {},
   "outputs": [],
   "source": [
    "!git add --all"
   ]
  },
  {
   "cell_type": "code",
   "execution_count": 11,
   "metadata": {},
   "outputs": [
    {
     "name": "stdout",
     "output_type": "stream",
     "text": [
      "[main 8d2bb1f] Update home\n",
      " 1 file changed, 15 insertions(+), 47 deletions(-)\n"
     ]
    }
   ],
   "source": [
    "!git commit -m 'Update home'"
   ]
  },
  {
   "cell_type": "code",
   "execution_count": 12,
   "metadata": {},
   "outputs": [
    {
     "name": "stdout",
     "output_type": "stream",
     "text": [
      "Enumerating objects: 5, done.\n",
      "Counting objects: 100% (5/5), done.\n",
      "Delta compression using up to 4 threads\n",
      "Compressing objects: 100% (3/3), done.\n",
      "Writing objects: 100% (3/3), 563 bytes | 563.00 KiB/s, done.\n",
      "Total 3 (delta 1), reused 0 (delta 0), pack-reused 0\n",
      "remote: Resolving deltas: 100% (1/1), completed with 1 local object.\u001b[K\n",
      "To github.com:chengfeng-liu/chengfeng-liu.github.io.git\n",
      "   e8c6306..8d2bb1f  main -> main\n"
     ]
    }
   ],
   "source": [
    "!git push origin main"
   ]
  }
 ],
 "metadata": {
  "kernelspec": {
   "display_name": "data",
   "language": "python",
   "name": "python3"
  },
  "language_info": {
   "codemirror_mode": {
    "name": "ipython",
    "version": 3
   },
   "file_extension": ".py",
   "mimetype": "text/x-python",
   "name": "python",
   "nbconvert_exporter": "python",
   "pygments_lexer": "ipython3",
   "version": "3.11.4"
  },
  "orig_nbformat": 4
 },
 "nbformat": 4,
 "nbformat_minor": 2
}
