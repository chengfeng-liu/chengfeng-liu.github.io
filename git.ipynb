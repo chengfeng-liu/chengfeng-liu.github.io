{
 "cells": [
  {
   "attachments": {},
   "cell_type": "markdown",
   "metadata": {},
   "source": [
    "# Set up Git\n",
    "\n",
    "Pushing local repository changes to GitHub should use **SSH** rather than **https** as latter will possibly fail.\n",
    "\n",
    "To use SSH with GitHub:\n",
    "\n",
    "- Open terminal and `cd ~`,\n",
    "- Generate an SSH key pair using `ssh-keygen -t ed25519 -C \"chengfengliu@icloud.com\"`,\n",
    "- Hit `enter` to confirm directory path,\n",
    "- Enter `April-8th` as `passphrase`,\n",
    "- Run `cat ~/.ssh/id_ed25519.pub` and use the contents as new SSH key on GitHub and `studio` as SSH key title,\n",
    "- Set up SSH authentication for Git using `git config --global user.name \"chengfeng-liu\"` and `git config --global user.email \"chengfengliu@icloud.com\"`,\n",
    "- `cd Documents/Projects/` and clone GitHub repository to local using `git clone git@github.com:chengfeng-liu/chengfeng-liu.github.io.git`, enter `yes` to confirm connection and `passphrase` to continue,\n",
    "- `cd ~` and run `ssh -T git@github.com` to test SSH connection to GitHub,\n",
    "- Ensure correct SSH key file permissions using `chmod 600 ~/.ssh/id_ed25519.pub`,\n",
    "Add SSH key to SSH agent using `ssh-add ~/.ssh/id_ed25519`."
   ]
  },
  {
   "attachments": {},
   "cell_type": "markdown",
   "metadata": {},
   "source": [
    "# Git commands"
   ]
  },
  {
   "cell_type": "code",
   "execution_count": 4,
   "metadata": {},
   "outputs": [],
   "source": [
    "!git add --all"
   ]
  },
  {
   "cell_type": "code",
   "execution_count": 5,
   "metadata": {},
   "outputs": [
    {
     "name": "stdout",
     "output_type": "stream",
     "text": [
      "hint: Waiting for your editor to close the file... \u001b7\u001b[?47h\u001b[>4;2m\u001b[?1h\u001b=\u001b[?2004h\u001b[?1004h\u001b[1;24r\u001b[?12h\u001b[?12l\u001b[22;2t\u001b[22;1t\u001b[29m\u001b[m\u001b[H\u001b[2J\u001b[?25l\u001b[24;1H\"~/Documents/Projects/chengfeng-liu.github.io/.git/COMMIT_EDITMSG\" 10L, 258B\u001b[2;1H▽\u001b[6n\u001b[2;1H  \u001b[3;1H\u001bPzz\u001b\\\u001b[0%m\u001b[6n\u001b[3;1H           \u001b[1;1H\u001b[>c\u001b]10;?\u0007\u001b]11;?\u0007\u001b[2;1H# Please enter the commit message for your changes. Lines starting\u001b[2;67H\u001b[K\u001b[3;1H# with '#' will be ignored, and an empty message aborts the commit.\u001b[3;68H\u001b[K\u001b[4;1H#\n",
      "# On branch main\n",
      "# Your branch is up to date with 'origin/main'.\n",
      "#\n",
      "# Changes to be committed:\n",
      "#\u001b[7Cmodified:   git.ipynb\n",
      "#\n",
      "\u001b[1m\u001b[34m~                                                                               \u001b[12;1H~                                                                               \u001b[13;1H~                                                                               \u001b[14;1H~                                                                               \u001b[15;1H~                                                                               \u001b[16;1H~                                                                               \u001b[17;1H~                                                                               \u001b[18;1H~                                                                               \u001b[19;1H~                                                                               \u001b[20;1H~                                                                               \u001b[21;1H~                                                                               \u001b[22;1H~                                                                               \u001b[23;1H~                                                                               \u001b[1;1H\u001b[?25h\u001b[?4m\u001b[?25l\u001b[m\u001b[24;1HType  :qa  and press <Enter> to exit Vim\u001b[24;41H\u001b[K\u0007\u001b[1;1H\u001b[?25h"
     ]
    }
   ],
   "source": [
    "!git commit -m 'Update home'"
   ]
  },
  {
   "cell_type": "code",
   "execution_count": 3,
   "metadata": {},
   "outputs": [
    {
     "name": "stdout",
     "output_type": "stream",
     "text": [
      "Enumerating objects: 6, done.\n",
      "Counting objects: 100% (6/6), done.\n",
      "Delta compression using up to 4 threads\n",
      "Compressing objects: 100% (4/4), done.\n",
      "Writing objects: 100% (4/4), 27.28 KiB | 537.00 KiB/s, done.\n",
      "Total 4 (delta 1), reused 0 (delta 0), pack-reused 0\n",
      "remote: Resolving deltas: 100% (1/1), completed with 1 local object.\u001b[K\n",
      "To github.com:chengfeng-liu/chengfeng-liu.github.io.git\n",
      "   b3d2946..4fcb597  main -> main\n",
      "branch 'main' set up to track 'origin/main'.\n"
     ]
    }
   ],
   "source": [
    "!git push origin main"
   ]
  }
 ],
 "metadata": {
  "kernelspec": {
   "display_name": "data",
   "language": "python",
   "name": "python3"
  },
  "language_info": {
   "codemirror_mode": {
    "name": "ipython",
    "version": 3
   },
   "file_extension": ".py",
   "mimetype": "text/x-python",
   "name": "python",
   "nbconvert_exporter": "python",
   "pygments_lexer": "ipython3",
   "version": "3.11.4"
  },
  "orig_nbformat": 4
 },
 "nbformat": 4,
 "nbformat_minor": 2
}
